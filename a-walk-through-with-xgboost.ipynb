{
 "cells": [
  {
   "cell_type": "markdown",
   "execution_count": null,
   "metadata": {},
   "source": [
    "# House Price Prediction Model\n",
    "\n",
    "Given is a dataset pertaining to the sale information of houses in different cities.\n",
    "All the analysis here will lead us to a predictive model of sale prices. First we'll get to know the data in hand with Exploratory data analysis along with dimentionality reduction."
   ]
  },
  {
   "cell_type": "code",
   "execution_count": 1,
   "metadata": {
    "_cell_guid": "923c8f0d-3e5a-49ec-ad43-52c16fe84ef6",
    "_uuid": "331a9330-cf8b-4e47-8dc5-e579259e70a9"
   },
   "outputs": [
    {
     "name": "stdout",
     "output_type": "stream",
     "text": [
      "<class 'pandas.core.frame.DataFrame'>\n",
      "RangeIndex: 1460 entries, 0 to 1459\n",
      "Data columns (total 81 columns):\n",
      " #   Column         Non-Null Count  Dtype  \n",
      "---  ------         --------------  -----  \n",
      " 0   Id             1460 non-null   int64  \n",
      " 1   MSSubClass     1460 non-null   int64  \n",
      " 2   MSZoning       1460 non-null   object \n",
      " 3   LotFrontage    1201 non-null   float64\n",
      " 4   LotArea        1460 non-null   int64  \n",
      " 5   Street         1460 non-null   object \n",
      " 6   Alley          91 non-null     object \n",
      " 7   LotShape       1460 non-null   object \n",
      " 8   LandContour    1460 non-null   object \n",
      " 9   Utilities      1460 non-null   object \n",
      " 10  LotConfig      1460 non-null   object \n",
      " 11  LandSlope      1460 non-null   object \n",
      " 12  Neighborhood   1460 non-null   object \n",
      " 13  Condition1     1460 non-null   object \n",
      " 14  Condition2     1460 non-null   object \n",
      " 15  BldgType       1460 non-null   object \n",
      " 16  HouseStyle     1460 non-null   object \n",
      " 17  OverallQual    1460 non-null   int64  \n",
      " 18  OverallCond    1460 non-null   int64  \n",
      " 19  YearBuilt      1460 non-null   int64  \n",
      " 20  YearRemodAdd   1460 non-null   int64  \n",
      " 21  RoofStyle      1460 non-null   object \n",
      " 22  RoofMatl       1460 non-null   object \n",
      " 23  Exterior1st    1460 non-null   object \n",
      " 24  Exterior2nd    1460 non-null   object \n",
      " 25  MasVnrType     1452 non-null   object \n",
      " 26  MasVnrArea     1452 non-null   float64\n",
      " 27  ExterQual      1460 non-null   object \n",
      " 28  ExterCond      1460 non-null   object \n",
      " 29  Foundation     1460 non-null   object \n",
      " 30  BsmtQual       1423 non-null   object \n",
      " 31  BsmtCond       1423 non-null   object \n",
      " 32  BsmtExposure   1422 non-null   object \n",
      " 33  BsmtFinType1   1423 non-null   object \n",
      " 34  BsmtFinSF1     1460 non-null   int64  \n",
      " 35  BsmtFinType2   1422 non-null   object \n",
      " 36  BsmtFinSF2     1460 non-null   int64  \n",
      " 37  BsmtUnfSF      1460 non-null   int64  \n",
      " 38  TotalBsmtSF    1460 non-null   int64  \n",
      " 39  Heating        1460 non-null   object \n",
      " 40  HeatingQC      1460 non-null   object \n",
      " 41  CentralAir     1460 non-null   object \n",
      " 42  Electrical     1459 non-null   object \n",
      " 43  1stFlrSF       1460 non-null   int64  \n",
      " 44  2ndFlrSF       1460 non-null   int64  \n",
      " 45  LowQualFinSF   1460 non-null   int64  \n",
      " 46  GrLivArea      1460 non-null   int64  \n",
      " 47  BsmtFullBath   1460 non-null   int64  \n",
      " 48  BsmtHalfBath   1460 non-null   int64  \n",
      " 49  FullBath       1460 non-null   int64  \n",
      " 50  HalfBath       1460 non-null   int64  \n",
      " 51  BedroomAbvGr   1460 non-null   int64  \n",
      " 52  KitchenAbvGr   1460 non-null   int64  \n",
      " 53  KitchenQual    1460 non-null   object \n",
      " 54  TotRmsAbvGrd   1460 non-null   int64  \n",
      " 55  Functional     1460 non-null   object \n",
      " 56  Fireplaces     1460 non-null   int64  \n",
      " 57  FireplaceQu    770 non-null    object \n",
      " 58  GarageType     1379 non-null   object \n",
      " 59  GarageYrBlt    1379 non-null   float64\n",
      " 60  GarageFinish   1379 non-null   object \n",
      " 61  GarageCars     1460 non-null   int64  \n",
      " 62  GarageArea     1460 non-null   int64  \n",
      " 63  GarageQual     1379 non-null   object \n",
      " 64  GarageCond     1379 non-null   object \n",
      " 65  PavedDrive     1460 non-null   object \n",
      " 66  WoodDeckSF     1460 non-null   int64  \n",
      " 67  OpenPorchSF    1460 non-null   int64  \n",
      " 68  EnclosedPorch  1460 non-null   int64  \n",
      " 69  3SsnPorch      1460 non-null   int64  \n",
      " 70  ScreenPorch    1460 non-null   int64  \n",
      " 71  PoolArea       1460 non-null   int64  \n",
      " 72  PoolQC         7 non-null      object \n",
      " 73  Fence          281 non-null    object \n",
      " 74  MiscFeature    54 non-null     object \n",
      " 75  MiscVal        1460 non-null   int64  \n",
      " 76  MoSold         1460 non-null   int64  \n",
      " 77  YrSold         1460 non-null   int64  \n",
      " 78  SaleType       1460 non-null   object \n",
      " 79  SaleCondition  1460 non-null   object \n",
      " 80  SalePrice      1460 non-null   int64  \n",
      "dtypes: float64(3), int64(35), object(43)\n",
      "memory usage: 924.0+ KB\n",
      "None\n",
      "\n",
      " GarageYrBlt        65\n",
      "YearBuilt          67\n",
      "YearRemodAdd      178\n",
      "Neighborhood      225\n",
      "MoSold            253\n",
      "YrSold            338\n",
      "OverallQual       397\n",
      "BsmtFinType1      430\n",
      "Exterior2nd       504\n",
      "Exterior1st       515\n",
      "MSSubClass        536\n",
      "GarageFinish      605\n",
      "Foundation        647\n",
      "BsmtQual          649\n",
      "HouseStyle        726\n",
      "KitchenQual       735\n",
      "HeatingQC         741\n",
      "OverallCond       821\n",
      "MasVnrType        864\n",
      "GarageType        870\n",
      "ExterQual         906\n",
      "LotShape          925\n",
      "BsmtExposure      953\n",
      "LotConfig        1052\n",
      "RoofStyle        1141\n",
      "MSZoning         1151\n",
      "SaleCondition    1198\n",
      "BldgType         1220\n",
      "BsmtFinType2     1256\n",
      "Condition1       1260\n",
      "SaleType         1267\n",
      "ExterCond        1282\n",
      "BsmtCond         1311\n",
      "LandContour      1311\n",
      "GarageQual       1311\n",
      "GarageCond       1326\n",
      "Electrical       1334\n",
      "PavedDrive       1340\n",
      "Functional       1360\n",
      "CentralAir       1365\n",
      "LandSlope        1382\n",
      "Heating          1428\n",
      "RoofMatl         1434\n",
      "Condition2       1445\n",
      "Street           1454\n",
      "Utilities        1459\n",
      "Name: freq, dtype: object\n"
     ]
    }
   ],
   "source": [
    "import numpy as np\n",
    "import pandas as pd\n",
    "import seaborn as sns\n",
    "import matplotlib.pyplot as plt\n",
    "\n",
    "\n",
    "df = pd.read_csv('../input/house-prices-advanced-regression-techniques/train.csv')\n",
    "\n",
    "\n",
    "#training data treatment\n",
    "print(df.info())\n",
    "\n",
    "#Removing columns having more than 30% null values\n",
    "mask_null = df.isnull().sum() / len(df) < 0.3\n",
    "df = df.loc[: , mask_null]\n",
    "\n",
    "#Information of all non-numric data\n",
    "#converting some columns to their true data type for better data handling\n",
    "#columns belong to 'category' dtype\n",
    "for i  in ['MSSubClass', 'OverallQual', 'OverallCond']:\n",
    "    df[i] = df[i].astype('category')\n",
    "\n",
    "#columns belong to 'datetime'\n",
    "for i in ['YearBuilt', 'YearRemodAdd', 'YrSold', 'GarageYrBlt', 'MoSold']:\n",
    "    if i == 'MoSold':\n",
    "        df[i] = pd.to_datetime(df[i], format= '%m')\n",
    "    else :\n",
    "        df[i] = pd.to_datetime(df[i])\n",
    "\n",
    "#Columns with the frequency of top category\n",
    "print('\\n', df.describe(exclude= 'number').loc['freq', :].sort_values())\n"
   ]
  },
  {
   "cell_type": "markdown",
   "execution_count": null,
   "metadata": {},
   "source": [
    "Categorical features which does not show any variability acorss the data does not provide any useful information for our future analysis. For e.g:\n",
    "\n",
    "In the column 'Street' 1454 entries are 'Pave' out of 1460. This makes a bad candidate for predicting Sale price. We can further get confidence about removing this feature by visualizing it with the target variable to account for any peculiar behaviour.\n",
    "Other such columns are: Utilities, Condition2 , RoofMatl, Heating"
   ]
  },
  {
   "cell_type": "code",
   "execution_count": 2,
   "metadata": {},
   "outputs": [
    {
     "data": {
      "text/plain": [
       "<seaborn.axisgrid.FacetGrid at 0x7f4ba81f8b50>"
      ]
     },
     "execution_count": 2,
     "metadata": {},
     "output_type": "execute_result"
    },
    {
     "data": {
      "image/png": "[encoded data removed]",
      "text/plain": [
       "<Figure size 360x360 with 1 Axes>"
      ]
     },
     "metadata": {
      "needs_background": "light"
     },
     "output_type": "display_data"
    },
    {
     "data": {
      "image/png": "[encoded data removed]",
      "text/plain": [
       "<Figure size 360x360 with 1 Axes>"
      ]
     },
     "metadata": {
      "needs_background": "light"
     },
     "output_type": "display_data"
    },
    {
     "data": {
      "image/png": "[encoded data removed]",
      "text/plain": [
       "<Figure size 360x360 with 1 Axes>"
      ]
     },
     "metadata": {
      "needs_background": "light"
     },
     "output_type": "display_data"
    },
    {
     "data": {
      "image/png": "[encoded data removed]",
      "text/plain": [
       "<Figure size 360x360 with 1 Axes>"
      ]
     },
     "metadata": {
      "needs_background": "light"
     },
     "output_type": "display_data"
    }
   ],
   "source": [
    "sns.relplot(x= 'Street', y= 'SalePrice', data= df, palette= 'husl')\n",
    "sns.relplot(x= 'Condition2', y= 'SalePrice', data= df, palette= 'husl')\n",
    "sns.relplot(x= 'RoofMatl', y= 'SalePrice', data= df, palette= 'husl')\n",
    "plt.xticks(rotation= 90)\n",
    "sns.relplot(x= 'Heating', y= 'SalePrice', data= df, palette= 'husl')"
   ]
  },
  {
   "cell_type": "markdown",
   "execution_count": null,
   "metadata": {},
   "source": [
    "In these features a single category dominates and hence does not provide much informatio for the model.\n",
    "I'll also remove all the year columns because they dont provide any information for classification as each one of them has only one value, 1970."
   ]
  },
  {
   "cell_type": "code",
   "execution_count": 3,
   "metadata": {},
   "outputs": [],
   "source": [
    "#Drop categorical features with less information\n",
    "df.drop(['Utilities', 'Street', 'Condition2', 'RoofMatl', 'Heating', 'YearBuilt', 'YearRemodAdd', 'YrSold', 'GarageYrBlt', 'MoSold'], axis= 1, inplace= True)"
   ]
  },
  {
   "cell_type": "markdown",
   "execution_count": null,
   "metadata": {},
   "source": [
    "Now let's focus on numeric features. We can apply a same approach with numeric data as we did with the non-numeric one. Features with very less **variance** do not provide much information.\n",
    "But now instead of doing it manually we'll automate the process using regressors provided by sklearn which themselves does the feature selection for us. For this purpose we'll use three models : linear regressor (lasso), Random forest and gradient boosting ."
   ]
  },
  {
   "cell_type": "code",
   "execution_count": 4,
   "metadata": {},
   "outputs": [
    {
     "name": "stderr",
     "output_type": "stream",
     "text": [
      "/opt/conda/lib/python3.7/site-packages/ipykernel_launcher.py:12: SettingWithCopyWarning: \n",
      "A value is trying to be set on a copy of a slice from a DataFrame\n",
      "\n",
      "See the caveats in the documentation: https://pandas.pydata.org/pandas-docs/stable/user_guide/indexing.html#returning-a-view-versus-a-copy\n",
      "  if sys.path[0] == '':\n"
     ]
    },
    {
     "name": "stdout",
     "output_type": "stream",
     "text": [
      "(1460, 45)\n"
     ]
    }
   ],
   "source": [
    "#import required functions\n",
    "from sklearn.linear_model import LassoCV\n",
    "from sklearn.ensemble import RandomForestRegressor, GradientBoostingRegressor\n",
    "#for recursice feature selection\n",
    "from sklearn.feature_selection import RFE\n",
    "from sklearn.preprocessing import StandardScaler\n",
    "\n",
    "#Get numeric features\n",
    "df_num = df[df.describe().columns]\n",
    "\n",
    "#drop null as sklearn doesn't work with them\n",
    "df_num.dropna(inplace= True)\n",
    "\n",
    "#Scaling data for LassoCV\n",
    "scaler = StandardScaler()\n",
    "std_data = scaler.fit_transform(df_num.drop(['SalePrice'], axis= 1))\n",
    "\n",
    "#Linear regressor\n",
    "lr = LassoCV()\n",
    "lr.fit(std_data, df_num['SalePrice'])\n",
    "mask_lr = lr.coef_ != 0\n",
    "\n",
    "#Random Forest \n",
    "rf = RandomForestRegressor()\n",
    "rfe_rf = RFE(estimator = rf, n_features_to_select = 10, step = 5)\n",
    "rfe_rf.fit(df_num.drop(['SalePrice'], axis = 1), df_num['SalePrice'])\n",
    "mask_rf = rfe_rf.support_\n",
    "\n",
    "#Gradient boosting\n",
    "rfe_gb = RFE(estimator = GradientBoostingRegressor(), n_features_to_select = 10, step = 5)\n",
    "rfe_gb.fit(df_num.drop(['SalePrice'], axis= 1), df_num['SalePrice'])\n",
    "mask_gb = rfe_gb.support_\n",
    "\n",
    "mask_final = np.sum([mask_lr, mask_rf, mask_gb], axis= 0) > 2\n",
    "\n",
    "\n",
    "X = df_num.drop(['SalePrice'], axis= 1)\n",
    "#Final numeric columns to include\n",
    "columns_to_include = X.loc[: , mask_final].columns\n",
    "columns_to_exclude = list(set(df.describe().columns) - set(columns_to_include))\n",
    "columns_to_exclude.remove('SalePrice')\n",
    "#Changing the original dataframe \n",
    "df.drop(columns_to_exclude, axis= 1, inplace = True)\n",
    "print(df.shape)"
   ]
  },
  {
   "cell_type": "markdown",
   "execution_count": null,
   "metadata": {},
   "source": [
    "There's a lot going on in the code above, so I need to clear few things before moving forward.\n",
    "First we made a duplicate copy of our dataset which contains only the numeric values. Now this has two benefits, as we are interested in numeric columns for now so we make a separate copy of that and our original dataset is safe and sound from any overwrite. \n",
    "Then *we used three different models and in the end get our results using hard core voting,that is, if two or more models vote for a feature to be included in the dataset, the feature stays otherwise we drop it*.\n",
    "\n",
    "Note: we used scaler for linear regressor (lasso) because we are comparing feature coefficient in the end, so each feature must be on a single scale. random forest and gradient don't need that as they are tree based models."
   ]
  },
  {
   "cell_type": "code",
   "execution_count": 5,
   "metadata": {},
   "outputs": [
    {
     "name": "stdout",
     "output_type": "stream",
     "text": [
      "MSSubClass        0\n",
      "MSZoning          0\n",
      "LotShape          0\n",
      "LandContour       0\n",
      "LotConfig         0\n",
      "LandSlope         0\n",
      "Neighborhood      0\n",
      "Condition1        0\n",
      "BldgType          0\n",
      "HouseStyle        0\n",
      "OverallQual       0\n",
      "OverallCond       0\n",
      "RoofStyle         0\n",
      "Exterior1st       0\n",
      "Exterior2nd       0\n",
      "MasVnrType        8\n",
      "ExterQual         0\n",
      "ExterCond         0\n",
      "Foundation        0\n",
      "BsmtQual         37\n",
      "BsmtCond         37\n",
      "BsmtExposure     38\n",
      "BsmtFinType1     37\n",
      "BsmtFinSF1        0\n",
      "BsmtFinType2     38\n",
      "TotalBsmtSF       0\n",
      "HeatingQC         0\n",
      "CentralAir        0\n",
      "Electrical        1\n",
      "1stFlrSF          0\n",
      "GrLivArea         0\n",
      "FullBath          0\n",
      "KitchenQual       0\n",
      "Functional        0\n",
      "GarageType       81\n",
      "GarageFinish     81\n",
      "GarageCars        0\n",
      "GarageArea        0\n",
      "GarageQual       81\n",
      "GarageCond       81\n",
      "PavedDrive        0\n",
      "OpenPorchSF       0\n",
      "SaleType          0\n",
      "SaleCondition     0\n",
      "SalePrice         0\n",
      "dtype: int64\n"
     ]
    }
   ],
   "source": [
    "print(df.isnull().sum())"
   ]
  },
  {
   "cell_type": "code",
   "execution_count": 6,
   "metadata": {},
   "outputs": [
    {
     "name": "stdout",
     "output_type": "stream",
     "text": [
      "<class 'pandas.core.frame.DataFrame'>\n",
      "RangeIndex: 1460 entries, 0 to 1459\n",
      "Data columns (total 45 columns):\n",
      " #   Column         Non-Null Count  Dtype   \n",
      "---  ------         --------------  -----   \n",
      " 0   MSSubClass     1460 non-null   category\n",
      " 1   MSZoning       1460 non-null   object  \n",
      " 2   LotShape       1460 non-null   object  \n",
      " 3   LandContour    1460 non-null   object  \n",
      " 4   LotConfig      1460 non-null   object  \n",
      " 5   LandSlope      1460 non-null   object  \n",
      " 6   Neighborhood   1460 non-null   object  \n",
      " 7   Condition1     1460 non-null   object  \n",
      " 8   BldgType       1460 non-null   object  \n",
      " 9   HouseStyle     1460 non-null   object  \n",
      " 10  OverallQual    1460 non-null   category\n",
      " 11  OverallCond    1460 non-null   category\n",
      " 12  RoofStyle      1460 non-null   object  \n",
      " 13  Exterior1st    1460 non-null   object  \n",
      " 14  Exterior2nd    1460 non-null   object  \n",
      " 15  MasVnrType     1452 non-null   object  \n",
      " 16  ExterQual      1460 non-null   object  \n",
      " 17  ExterCond      1460 non-null   object  \n",
      " 18  Foundation     1460 non-null   object  \n",
      " 19  BsmtQual       1423 non-null   object  \n",
      " 20  BsmtCond       1423 non-null   object  \n",
      " 21  BsmtExposure   1422 non-null   object  \n",
      " 22  BsmtFinType1   1423 non-null   object  \n",
      " 23  BsmtFinSF1     1460 non-null   int64   \n",
      " 24  BsmtFinType2   1422 non-null   object  \n",
      " 25  TotalBsmtSF    1460 non-null   int64   \n",
      " 26  HeatingQC      1460 non-null   object  \n",
      " 27  CentralAir     1460 non-null   object  \n",
      " 28  Electrical     1459 non-null   object  \n",
      " 29  1stFlrSF       1460 non-null   int64   \n",
      " 30  GrLivArea      1460 non-null   int64   \n",
      " 31  FullBath       1460 non-null   int64   \n",
      " 32  KitchenQual    1460 non-null   object  \n",
      " 33  Functional     1460 non-null   object  \n",
      " 34  GarageType     1379 non-null   object  \n",
      " 35  GarageFinish   1379 non-null   object  \n",
      " 36  GarageCars     1460 non-null   int64   \n",
      " 37  GarageArea     1460 non-null   int64   \n",
      " 38  GarageQual     1379 non-null   object  \n",
      " 39  GarageCond     1379 non-null   object  \n",
      " 40  PavedDrive     1460 non-null   object  \n",
      " 41  OpenPorchSF    1460 non-null   int64   \n",
      " 42  SaleType       1460 non-null   object  \n",
      " 43  SaleCondition  1460 non-null   object  \n",
      " 44  SalePrice      1460 non-null   int64   \n",
      "dtypes: category(3), int64(9), object(33)\n",
      "memory usage: 485.0+ KB\n"
     ]
    }
   ],
   "source": [
    "df.info()\n",
    "\n"
   ]
  },
  {
   "cell_type": "markdown",
   "execution_count": null,
   "metadata": {},
   "source": [
    "Now the time has come to build our final model which'll do what we are here for, give a prediction for saleprice of a house given it's feature.\n",
    "We'll be using **Extreme Gradient Boost regressor** for this purpose.\n"
   ]
  },
  {
   "cell_type": "code",
   "execution_count": 7,
   "metadata": {},
   "outputs": [
    {
     "name": "stdout",
     "output_type": "stream",
     "text": [
      "   MSSubClass MSZoning LotShape LandContour LotConfig LandSlope Neighborhood  \\\n",
      "0          60       RL      Reg         Lvl    Inside       Gtl      CollgCr   \n",
      "1          20       RL      Reg         Lvl       FR2       Gtl      Veenker   \n",
      "2          60       RL      IR1         Lvl    Inside       Gtl      CollgCr   \n",
      "3          70       RL      IR1         Lvl    Corner       Gtl      Crawfor   \n",
      "4          60       RL      IR1         Lvl       FR2       Gtl      NoRidge   \n",
      "\n",
      "  Condition1 BldgType HouseStyle  ...  Electrical  KitchenQual Functional  \\\n",
      "0       Norm     1Fam     2Story  ...       SBrkr           Gd        Typ   \n",
      "1      Feedr     1Fam     1Story  ...       SBrkr           TA        Typ   \n",
      "2       Norm     1Fam     2Story  ...       SBrkr           Gd        Typ   \n",
      "3       Norm     1Fam     2Story  ...       SBrkr           Gd        Typ   \n",
      "4       Norm     1Fam     2Story  ...       SBrkr           Gd        Typ   \n",
      "\n",
      "  GarageType GarageFinish GarageQual GarageCond PavedDrive SaleType  \\\n",
      "0     Attchd          RFn         TA         TA          Y       WD   \n",
      "1     Attchd          RFn         TA         TA          Y       WD   \n",
      "2     Attchd          RFn         TA         TA          Y       WD   \n",
      "3     Detchd          Unf         TA         TA          Y       WD   \n",
      "4     Attchd          RFn         TA         TA          Y       WD   \n",
      "\n",
      "  SaleCondition  \n",
      "0        Normal  \n",
      "1        Normal  \n",
      "2        Normal  \n",
      "3       Abnorml  \n",
      "4        Normal  \n",
      "\n",
      "[5 rows x 36 columns]\n"
     ]
    }
   ],
   "source": [
    "#Separate numeric and categorical data\n",
    "numeric_features = df.drop('SalePrice', axis= 1).describe().columns.tolist()\n",
    "\n",
    "\n",
    "non_numeric_features = df.describe(exclude= 'number').columns.tolist()\n",
    "\n",
    "#Import required libraries\n",
    "from sklearn.pipeline import FeatureUnion, Pipeline\n",
    "from sklearn.model_selection import  RandomizedSearchCV\n",
    "from sklearn.preprocessing import  StandardScaler, FunctionTransformer\n",
    "from sklearn.impute import SimpleImputer\n",
    "from sklearn.feature_extraction import DictVectorizer\n",
    "from sklearn_pandas import DataFrameMapper, CategoricalImputer\n",
    "import xgboost as xgb\n",
    "\n",
    "#Apply numeric imputer\n",
    "numeric_imputer_mapper = DataFrameMapper([\n",
    "    ([num_features], SimpleImputer(strategy= 'median')) for num_features in numeric_features\n",
    "                                        ],\n",
    "    input_df= True,\n",
    "    df_out= True\n",
    ")\n",
    "\n",
    "#Apply imputer for categorical data\n",
    "cat_imputer_mapper = DataFrameMapper([\n",
    "    (cat_features, CategoricalImputer()) for cat_features in non_numeric_features\n",
    "                                    ],\n",
    "    input_df= True,\n",
    "    df_out= True\n",
    ")\n",
    "\n",
    "print(cat_imputer_mapper.fit_transform(df).head())\n",
    "\n",
    "#Make separate pipelines for both types of columns\n",
    "numeric_pipeline = Pipeline([\n",
    "    ('imputer', numeric_imputer_mapper),\n",
    "    ('scaler', StandardScaler())\n",
    "])\n",
    "\n",
    "#prepare inpute for dictvectorizer\n",
    "Dictifier = FunctionTransformer(lambda x: x.to_dict('record'))\n",
    "    \n",
    "cat_pipeline = Pipeline([\n",
    "    ('imputer', cat_imputer_mapper),\n",
    "    ('dictifier', Dictifier),\n",
    "    ('vectorizer', DictVectorizer(sort= False))\n",
    "])\n",
    "\n",
    "#Compine two pipelines for xgboost\n",
    "union = FeatureUnion([\n",
    "    ('numeric_pipe', numeric_pipeline),\n",
    "    ('cat_pipe', cat_pipeline)\n",
    "])\n",
    "\n",
    "#Final pipeline\n",
    "xgb_pipeline = Pipeline([\n",
    "    ('union', union),\n",
    "    ('xgb_model', xgb.XGBRegressor())\n",
    "])"
   ]
  },
  {
   "cell_type": "markdown",
   "execution_count": null,
   "metadata": {},
   "source": [
    "Now since the data contains both numeric and categorical features, so we need two different preprocessing stratigies pertaining to each type of columns.\n",
    "First step would be separating different types of columns. I always use a little trick here, the descibe method of pandas always present the summary statistics of numeric data in the form of dataframe. So all we have to do is grab the columns of that dataframe and we have the numeric columns in hand. For non-numeric features just improve your describe function and rest is same.\n",
    "After separating my data, We take of care of missing values by imputing them. The dataframe mapper provided by sklearn_pandas takes a dataframe and transform only the columns we specify, then the actual use of dataframe mapper comes into play, since sklearn transformers output a numpy array but we may want to get our dataframe back,so dataframe mapper does exactly the same.\n",
    "This imputing process also separate the data which then goes into their respective pipelines and finally into the regressor.\n",
    "\n",
    "Now it's time for hypertunning our model parameters for better performance."
   ]
  },
  {
   "cell_type": "code",
   "execution_count": 8,
   "metadata": {},
   "outputs": [],
   "source": [
    "#Create a parameter grid for xg boost\n",
    "xgb_params_grid = {\n",
    "    'xgb_model__learning_rate': np.arange(0.05, 1, 0.05),\n",
    "    'xgb_model__max_depth': np.arange(2, 20, 1),\n",
    "    'xgb_model__subsample': np.arange(0.05, 1, 0.05),\n",
    "    'xgb_model__colsample_bytree': np.arange(.1,1,.05)\n",
    "}\n",
    "\n",
    "cv_result = RandomizedSearchCV(estimator= xgb_pipeline, \n",
    "                              param_distributions = xgb_params_grid,\n",
    "                              n_iter= 10,\n",
    "                              scoring= 'neg_mean_squared_error',\n",
    "                              cv= 4, n_jobs= -1)\n"
   ]
  },
  {
   "cell_type": "markdown",
   "execution_count": null,
   "metadata": {},
   "source": [
    "This is the final step of fitting the data and check efficiency of the model we built. Since it's a regressor so we'll use RMSE as our scoring metric."
   ]
  },
  {
   "cell_type": "code",
   "execution_count": 9,
   "metadata": {},
   "outputs": [
    {
     "name": "stdout",
     "output_type": "stream",
     "text": [
      "Best RMSE:  28794.41418043247\n"
     ]
    }
   ],
   "source": [
    "#Make feature and target data\n",
    "X, y= df.drop('SalePrice', axis= 1), df['SalePrice']\n",
    "\n",
    "#Fit the model\n",
    "cv_result.fit(X, y)\n",
    "\n",
    "#Check efficiency\n",
    "print('Best RMSE: ', np.sqrt(np.abs(cv_result.best_score_)))"
   ]
  },
  {
   "cell_type": "markdown",
   "execution_count": null,
   "metadata": {},
   "source": [
    "Now the model is up and running, load the test data and predict the Saleprices.\n",
    "Remember we incorporated imputers in our model pipeline, so we'll just check for compatible features and use them in our prediction."
   ]
  },
  {
   "cell_type": "code",
   "execution_count": 10,
   "metadata": {},
   "outputs": [
    {
     "name": "stdout",
     "output_type": "stream",
     "text": [
      "          SalePrice\n",
      "Id                 \n",
      "1461  120386.437500\n",
      "1462  156346.609375\n",
      "1463  181813.984375\n",
      "1464  197980.484375\n",
      "1465  197585.625000\n"
     ]
    }
   ],
   "source": [
    "#Load test data\n",
    "df_test = pd.read_csv('../input/house-prices-advanced-regression-techniques/test.csv')\n",
    "\n",
    "#Inspect the data\n",
    "#print(df_test.info())\n",
    "\n",
    "#Extract the features we need\n",
    "df_test_final = df_test.loc[: , X.columns]\n",
    "\n",
    "prediction = cv_result.predict(df_test_final)\n",
    "\n",
    "submission = pd.DataFrame({\n",
    "    'Id': df_test['Id'],\n",
    "    'SalePrice': prediction\n",
    "})\n",
    "\n",
    "\n",
    "\n",
    "submission.set_index('Id', inplace= True)\n",
    "print(submission.head())\n",
    "\n",
    "submission.to_csv('submission_house_data.csv')"
   ]
  }
 ],
 "metadata": {
  "kernelspec": {
   "display_name": "Python 3",
   "language": "python",
   "name": "python3"
  },
  "language_info": {
   "codemirror_mode": {
    "name": "ipython",
    "version": 3
   },
   "file_extension": ".py",
   "mimetype": "text/x-python",
   "name": "python",
   "nbconvert_exporter": "python",
   "pygments_lexer": "ipython3",
   "version": "3.7.6"
  }
 },
 "nbformat": 4,
 "nbformat_minor": 4
}
